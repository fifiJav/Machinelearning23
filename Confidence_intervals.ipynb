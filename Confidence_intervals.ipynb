{
  "nbformat": 4,
  "nbformat_minor": 0,
  "metadata": {
    "colab": {
      "provenance": [],
      "authorship_tag": "ABX9TyPtbLGvZp/bMTInCFQNJsa3",
      "include_colab_link": true
    },
    "kernelspec": {
      "name": "python3",
      "display_name": "Python 3"
    },
    "language_info": {
      "name": "python"
    }
  },
  "cells": [
    {
      "cell_type": "markdown",
      "metadata": {
        "id": "view-in-github",
        "colab_type": "text"
      },
      "source": [
        "<a href=\"https://colab.research.google.com/github/fifiJav/Machinelearning23/blob/main/Confidence_intervals.ipynb\" target=\"_parent\"><img src=\"https://colab.research.google.com/assets/colab-badge.svg\" alt=\"Open In Colab\"/></a>"
      ]
    },
    {
      "cell_type": "code",
      "execution_count": null,
      "metadata": {
        "id": "P9mvcEDNRL0U"
      },
      "outputs": [],
      "source": [
        "import scipy.stats as stats\n"
      ]
    },
    {
      "cell_type": "markdown",
      "source": [
        "**Diagnostic** **Accuracy**"
      ],
      "metadata": {
        "id": "RMeoDxBYHZ8-"
      }
    },
    {
      "cell_type": "markdown",
      "source": [
        "**ADA**"
      ],
      "metadata": {
        "id": "cYF-we83GntY"
      }
    },
    {
      "cell_type": "code",
      "source": [
        "###Top1\n",
        "\n",
        "successes = 22\n",
        "trials = 44\n",
        "confidence_level = 0.95\n",
        "\n",
        "# Perform binomial test\n",
        "conf_interval = stats.binom.interval(confidence_level, trials, successes / trials)\n",
        "\n",
        "# Print the result\n",
        "print(conf_interval)"
      ],
      "metadata": {
        "colab": {
          "base_uri": "https://localhost:8080/"
        },
        "id": "zodOEBE-Gj9k",
        "outputId": "d1ed0dd9-c454-46be-9a9f-0ae297a42fc8"
      },
      "execution_count": null,
      "outputs": [
        {
          "output_type": "stream",
          "name": "stdout",
          "text": [
            "(16.0, 28.0)\n"
          ]
        }
      ]
    },
    {
      "cell_type": "code",
      "source": [
        "##Top3\n",
        "successes = 30\n",
        "trials = 44\n",
        "confidence_level = 0.95\n",
        "\n",
        "# Perform binomial test\n",
        "conf_interval = stats.binom.interval(confidence_level, trials, successes / trials)\n",
        "\n",
        "# Print the result\n",
        "print(conf_interval)"
      ],
      "metadata": {
        "colab": {
          "base_uri": "https://localhost:8080/"
        },
        "id": "l-148c5cGkBp",
        "outputId": "04c6dece-40bf-4cf4-ffd9-80a65d06e3cd"
      },
      "execution_count": null,
      "outputs": [
        {
          "output_type": "stream",
          "name": "stdout",
          "text": [
            "(24.0, 36.0)\n"
          ]
        }
      ]
    },
    {
      "cell_type": "code",
      "source": [
        "#Top10\n",
        "successes = 32\n",
        "trials = 44\n",
        "confidence_level = 0.95\n",
        "\n",
        "# Perform binomial test\n",
        "conf_interval = stats.binom.interval(confidence_level, trials, successes / trials)\n",
        "\n",
        "# Print the result\n",
        "print(conf_interval)"
      ],
      "metadata": {
        "colab": {
          "base_uri": "https://localhost:8080/"
        },
        "id": "5n34fo-GGkDn",
        "outputId": "0aeb4500-6122-4019-8f87-97b418875c62"
      },
      "execution_count": null,
      "outputs": [
        {
          "output_type": "stream",
          "name": "stdout",
          "text": [
            "(26.0, 38.0)\n"
          ]
        }
      ]
    },
    {
      "cell_type": "markdown",
      "source": [
        "**Symptomate**"
      ],
      "metadata": {
        "id": "4AnQk2xTG0kz"
      }
    },
    {
      "cell_type": "code",
      "source": [
        "##Top1\n",
        "successes = 20\n",
        "trials = 44\n",
        "confidence_level = 0.95\n",
        "\n",
        "# Perform binomial test\n",
        "conf_interval = stats.binom.interval(confidence_level, trials, successes / trials)\n",
        "\n",
        "# Print the result\n",
        "print(conf_interval)"
      ],
      "metadata": {
        "colab": {
          "base_uri": "https://localhost:8080/"
        },
        "id": "rvXcPPsjGkGD",
        "outputId": "4e0be8cb-3109-48d2-bccf-dfba978eac64"
      },
      "execution_count": null,
      "outputs": [
        {
          "output_type": "stream",
          "name": "stdout",
          "text": [
            "(14.0, 26.0)\n"
          ]
        }
      ]
    },
    {
      "cell_type": "code",
      "source": [
        "##Top3\n",
        "successes = 29\n",
        "trials = 44\n",
        "confidence_level = 0.95\n",
        "\n",
        "# Perform binomial test\n",
        "conf_interval = stats.binom.interval(confidence_level, trials, successes / trials)\n",
        "\n",
        "# Print the result\n",
        "print(conf_interval)"
      ],
      "metadata": {
        "colab": {
          "base_uri": "https://localhost:8080/"
        },
        "id": "SkgfFq_gGkIl",
        "outputId": "1eb392f3-8af5-4252-d51c-ef515c5616f5"
      },
      "execution_count": null,
      "outputs": [
        {
          "output_type": "stream",
          "name": "stdout",
          "text": [
            "(23.0, 35.0)\n"
          ]
        }
      ]
    },
    {
      "cell_type": "markdown",
      "source": [
        "WEB **MD**"
      ],
      "metadata": {
        "id": "ytiOqSZaG4nC"
      }
    },
    {
      "cell_type": "code",
      "source": [
        "##Top1\n",
        "successes = 18\n",
        "trials = 44\n",
        "confidence_level = 0.95\n",
        "\n",
        "# Perform binomial test\n",
        "conf_interval = stats.binom.interval(confidence_level, trials, successes / trials)\n",
        "\n",
        "# Print the result\n",
        "print(conf_interval)"
      ],
      "metadata": {
        "colab": {
          "base_uri": "https://localhost:8080/"
        },
        "id": "a5TO36SCGkLJ",
        "outputId": "582e55c4-d43f-40ee-b520-ef03ef0869b6"
      },
      "execution_count": null,
      "outputs": [
        {
          "output_type": "stream",
          "name": "stdout",
          "text": [
            "(12.0, 24.0)\n"
          ]
        }
      ]
    },
    {
      "cell_type": "code",
      "source": [
        "##Top3\n",
        "successes = 30\n",
        "trials = 44\n",
        "confidence_level = 0.95\n",
        "\n",
        "# Perform binomial test\n",
        "conf_interval = stats.binom.interval(confidence_level, trials, successes / trials)\n",
        "\n",
        "# Print the result\n",
        "print(conf_interval)"
      ],
      "metadata": {
        "colab": {
          "base_uri": "https://localhost:8080/"
        },
        "id": "l9RLXx5dGkNj",
        "outputId": "92a785bf-50c3-4a44-9dc3-0b8760d1f68d"
      },
      "execution_count": null,
      "outputs": [
        {
          "output_type": "stream",
          "name": "stdout",
          "text": [
            "(24.0, 36.0)\n"
          ]
        }
      ]
    },
    {
      "cell_type": "code",
      "source": [
        "##Top10\n",
        "successes = 37\n",
        "trials = 44\n",
        "confidence_level = 0.95\n",
        "\n",
        "# Perform binomial test\n",
        "conf_interval = stats.binom.interval(confidence_level, trials, successes / trials)\n",
        "\n",
        "# Print the result\n",
        "print(conf_interval)"
      ],
      "metadata": {
        "colab": {
          "base_uri": "https://localhost:8080/"
        },
        "id": "1eLdbWTnGkQm",
        "outputId": "f82445de-134c-452e-e03f-8974ebc0de41"
      },
      "execution_count": null,
      "outputs": [
        {
          "output_type": "stream",
          "name": "stdout",
          "text": [
            "(32.0, 41.0)\n"
          ]
        }
      ]
    },
    {
      "cell_type": "markdown",
      "source": [
        "**ISABEL**"
      ],
      "metadata": {
        "id": "2RrbUs4jG9u6"
      }
    },
    {
      "cell_type": "code",
      "source": [
        "##Top1\n",
        "successes = 17\n",
        "trials = 44\n",
        "confidence_level = 0.95\n",
        "\n",
        "# Perform binomial test\n",
        "conf_interval = stats.binom.interval(confidence_level, trials, successes / trials)\n",
        "\n",
        "# Print the result\n",
        "print(conf_interval)"
      ],
      "metadata": {
        "colab": {
          "base_uri": "https://localhost:8080/"
        },
        "id": "4OjEI97EGkTe",
        "outputId": "89f7097d-6f1e-400d-8282-07702a2dd341"
      },
      "execution_count": null,
      "outputs": [
        {
          "output_type": "stream",
          "name": "stdout",
          "text": [
            "(11.0, 23.0)\n"
          ]
        }
      ]
    },
    {
      "cell_type": "code",
      "source": [
        "##Top3\n",
        "successes = 29\n",
        "trials = 44\n",
        "confidence_level = 0.95\n",
        "\n",
        "# Perform binomial test\n",
        "conf_interval = stats.binom.interval(confidence_level, trials, successes / trials)\n",
        "\n",
        "# Print the result\n",
        "print(conf_interval)"
      ],
      "metadata": {
        "colab": {
          "base_uri": "https://localhost:8080/"
        },
        "id": "1n9bYFMWGkWR",
        "outputId": "6b66a7e0-8781-49f1-ac2d-b644295b64ed"
      },
      "execution_count": null,
      "outputs": [
        {
          "output_type": "stream",
          "name": "stdout",
          "text": [
            "(23.0, 35.0)\n"
          ]
        }
      ]
    },
    {
      "cell_type": "code",
      "source": [
        "##Top10\n",
        "successes = 37\n",
        "trials = 44\n",
        "confidence_level = 0.95\n",
        "\n",
        "# Perform binomial test\n",
        "conf_interval = stats.binom.interval(confidence_level, trials, successes / trials)\n",
        "\n",
        "# Print the result\n",
        "print(conf_interval)"
      ],
      "metadata": {
        "colab": {
          "base_uri": "https://localhost:8080/"
        },
        "id": "qU_liIy0GkYo",
        "outputId": "bdaf8a0f-0e28-4e7c-de21-7ae1864fbf0f"
      },
      "execution_count": null,
      "outputs": [
        {
          "output_type": "stream",
          "name": "stdout",
          "text": [
            "(32.0, 41.0)\n"
          ]
        }
      ]
    },
    {
      "cell_type": "markdown",
      "source": [
        "**MEDIKTOR**"
      ],
      "metadata": {
        "id": "PgGcgXrWHB8j"
      }
    },
    {
      "cell_type": "code",
      "source": [
        "##Top1\n",
        "successes = 17\n",
        "trials = 44\n",
        "confidence_level = 0.95\n",
        "\n",
        "# Perform binomial test\n",
        "conf_interval = stats.binom.interval(confidence_level, trials, successes / trials)\n",
        "\n",
        "# Print the result\n",
        "print(conf_interval)"
      ],
      "metadata": {
        "colab": {
          "base_uri": "https://localhost:8080/"
        },
        "id": "qK7t04LJGkbe",
        "outputId": "ac57cbbc-db8b-4e0f-ab42-45e2b74b9bae"
      },
      "execution_count": null,
      "outputs": [
        {
          "output_type": "stream",
          "name": "stdout",
          "text": [
            "(11.0, 23.0)\n"
          ]
        }
      ]
    },
    {
      "cell_type": "code",
      "source": [
        "##Top3\n",
        "successes = 23\n",
        "trials = 44\n",
        "confidence_level = 0.95\n",
        "\n",
        "# Perform binomial test\n",
        "conf_interval = stats.binom.interval(confidence_level, trials, successes / trials)\n",
        "\n",
        "# Print the result\n",
        "print(conf_interval)"
      ],
      "metadata": {
        "colab": {
          "base_uri": "https://localhost:8080/"
        },
        "id": "0yu4BpOmGkeR",
        "outputId": "720d294b-4d69-4618-f57e-17eaabe6f82d"
      },
      "execution_count": null,
      "outputs": [
        {
          "output_type": "stream",
          "name": "stdout",
          "text": [
            "(17.0, 29.0)\n"
          ]
        }
      ]
    },
    {
      "cell_type": "code",
      "source": [
        "##Top10\n",
        "successes = 26\n",
        "trials = 44\n",
        "confidence_level = 0.95\n",
        "\n",
        "# Perform binomial test\n",
        "conf_interval = stats.binom.interval(confidence_level, trials, successes / trials)\n",
        "\n",
        "# Print the result\n",
        "print(conf_interval)"
      ],
      "metadata": {
        "colab": {
          "base_uri": "https://localhost:8080/"
        },
        "id": "s-6slfSLGkhg",
        "outputId": "18b0b029-1866-408b-bdcc-895baa5a4203"
      },
      "execution_count": null,
      "outputs": [
        {
          "output_type": "stream",
          "name": "stdout",
          "text": [
            "(20.0, 32.0)\n"
          ]
        }
      ]
    },
    {
      "cell_type": "markdown",
      "source": [
        "**Average diagnositc accuracies**"
      ],
      "metadata": {
        "id": "yXkbWRSaHGbM"
      }
    },
    {
      "cell_type": "markdown",
      "source": [
        "top 1"
      ],
      "metadata": {
        "id": "sWwDO0yqHPln"
      }
    },
    {
      "cell_type": "code",
      "source": [
        "##Top1\n",
        "successes = 94\n",
        "trials = 220\n",
        "confidence_level = 0.95\n",
        "\n",
        "# Perform binomial test\n",
        "conf_interval = stats.binom.interval(confidence_level, trials, successes / trials)\n",
        "\n",
        "# Print the result\n",
        "print(conf_interval)"
      ],
      "metadata": {
        "colab": {
          "base_uri": "https://localhost:8080/"
        },
        "id": "rDjUccOvHTuy",
        "outputId": "2132237b-e74f-43bb-f0ee-dcb6b9d616bf"
      },
      "execution_count": null,
      "outputs": [
        {
          "output_type": "stream",
          "name": "stdout",
          "text": [
            "(80.0, 108.0)\n"
          ]
        }
      ]
    },
    {
      "cell_type": "markdown",
      "source": [
        "top 3"
      ],
      "metadata": {
        "id": "a18XAzdVHUQz"
      }
    },
    {
      "cell_type": "code",
      "source": [
        "##Top3\n",
        "successes = 111\n",
        "trials = 220\n",
        "confidence_level = 0.95\n",
        "\n",
        "# Perform binomial test\n",
        "conf_interval = stats.binom.interval(confidence_level, trials, successes / trials)\n",
        "\n",
        "# Print the result\n",
        "print(conf_interval)"
      ],
      "metadata": {
        "colab": {
          "base_uri": "https://localhost:8080/"
        },
        "id": "6PcfboxcGkp6",
        "outputId": "6e728346-bd83-4e9d-b74f-f2803714916b"
      },
      "execution_count": null,
      "outputs": [
        {
          "output_type": "stream",
          "name": "stdout",
          "text": [
            "(96.0, 126.0)\n"
          ]
        }
      ]
    },
    {
      "cell_type": "markdown",
      "source": [
        "top 10"
      ],
      "metadata": {
        "id": "QC9T6_ljHVe8"
      }
    },
    {
      "cell_type": "code",
      "source": [
        "##Top10\n",
        "successes = 132\n",
        "trials = 176\n",
        "confidence_level = 0.95\n",
        "\n",
        "# Perform binomial test\n",
        "conf_interval = stats.binom.interval(confidence_level, trials, successes / trials)\n",
        "\n",
        "# Print the result\n",
        "print(conf_interval)"
      ],
      "metadata": {
        "colab": {
          "base_uri": "https://localhost:8080/"
        },
        "id": "i8ecHOauGkuW",
        "outputId": "176d07e4-0871-4fe5-ffd5-7abab0e14e04"
      },
      "execution_count": null,
      "outputs": [
        {
          "output_type": "stream",
          "name": "stdout",
          "text": [
            "(121.0, 143.0)\n"
          ]
        }
      ]
    },
    {
      "cell_type": "markdown",
      "source": [
        "**Triage accuracy**"
      ],
      "metadata": {
        "id": "g5L12BjGHeGM"
      }
    },
    {
      "cell_type": "markdown",
      "source": [
        "**Ada**"
      ],
      "metadata": {
        "id": "ixNpSxl1Hl7i"
      }
    },
    {
      "cell_type": "code",
      "source": [
        "##Correct\n",
        "successes = 24\n",
        "trials = 32\n",
        "confidence_level = 0.95\n",
        "\n",
        "# Perform binomial test\n",
        "conf_interval = stats.binom.interval(confidence_level, trials, successes / trials)\n",
        "\n",
        "# Print the result\n",
        "print(conf_interval)"
      ],
      "metadata": {
        "colab": {
          "base_uri": "https://localhost:8080/"
        },
        "id": "s_5yGZTzM033",
        "outputId": "70d194c9-c80d-43a3-c23e-66193c985571"
      },
      "execution_count": null,
      "outputs": [
        {
          "output_type": "stream",
          "name": "stdout",
          "text": [
            "(19.0, 29.0)\n"
          ]
        }
      ]
    },
    {
      "cell_type": "code",
      "source": [
        "#Over\n",
        "successes = 3\n",
        "trials = 32\n",
        "confidence_level = 0.95\n",
        "\n",
        "# Perform binomial test\n",
        "conf_interval = stats.binom.interval(confidence_level, trials, successes / trials)\n",
        "\n",
        "# Print the result\n",
        "print(conf_interval)"
      ],
      "metadata": {
        "colab": {
          "base_uri": "https://localhost:8080/"
        },
        "id": "LWM3Pi2aM1AI",
        "outputId": "3d860d23-2c87-4962-831a-f3e3e89b133c"
      },
      "execution_count": null,
      "outputs": [
        {
          "output_type": "stream",
          "name": "stdout",
          "text": [
            "(0.0, 7.0)\n"
          ]
        }
      ]
    },
    {
      "cell_type": "code",
      "source": [
        "#Under\n",
        "successes = 5\n",
        "trials = 32\n",
        "confidence_level = 0.95\n",
        "\n",
        "# Perform binomial test\n",
        "conf_interval = stats.binom.interval(confidence_level, trials, successes / trials)\n",
        "\n",
        "# Print the result\n",
        "print(conf_interval)"
      ],
      "metadata": {
        "colab": {
          "base_uri": "https://localhost:8080/"
        },
        "id": "gN7V8RmNHs5F",
        "outputId": "99389918-c975-40c3-d5bc-534cc8060c8e"
      },
      "execution_count": null,
      "outputs": [
        {
          "output_type": "stream",
          "name": "stdout",
          "text": [
            "(1.0, 9.0)\n"
          ]
        }
      ]
    },
    {
      "cell_type": "markdown",
      "source": [
        "**Symptomate**"
      ],
      "metadata": {
        "id": "B9rhoD1cHmDf"
      }
    },
    {
      "cell_type": "code",
      "source": [
        "##Correct\n",
        "successes = 19\n",
        "trials = 44\n",
        "confidence_level = 0.95\n",
        "\n",
        "# Perform binomial test\n",
        "conf_interval = stats.binom.interval(confidence_level, trials, successes / trials)\n",
        "\n",
        "# Print the result\n",
        "print(conf_interval)"
      ],
      "metadata": {
        "colab": {
          "base_uri": "https://localhost:8080/"
        },
        "id": "_Lebe0YNHt5e",
        "outputId": "f441318f-acfd-4d06-852f-7ed2f738e8f5"
      },
      "execution_count": null,
      "outputs": [
        {
          "output_type": "stream",
          "name": "stdout",
          "text": [
            "(13.0, 25.0)\n"
          ]
        }
      ]
    },
    {
      "cell_type": "code",
      "source": [
        "##over\n",
        "successes = 9\n",
        "trials = 44\n",
        "confidence_level = 0.95\n",
        "\n",
        "# Perform binomial test\n",
        "conf_interval = stats.binom.interval(confidence_level, trials, successes / trials)\n",
        "\n",
        "# Print the result\n",
        "print(conf_interval)"
      ],
      "metadata": {
        "colab": {
          "base_uri": "https://localhost:8080/"
        },
        "id": "kI0_i5kYM5O-",
        "outputId": "744cafe2-2707-4e12-d980-e776f061d80b"
      },
      "execution_count": null,
      "outputs": [
        {
          "output_type": "stream",
          "name": "stdout",
          "text": [
            "(4.0, 14.0)\n"
          ]
        }
      ]
    },
    {
      "cell_type": "code",
      "source": [
        "##under\n",
        "successes = 16\n",
        "trials = 44\n",
        "confidence_level = 0.95\n",
        "\n",
        "# Perform binomial test\n",
        "conf_interval = stats.binom.interval(confidence_level, trials, successes / trials)\n",
        "\n",
        "# Print the result\n",
        "print(conf_interval)"
      ],
      "metadata": {
        "colab": {
          "base_uri": "https://localhost:8080/"
        },
        "id": "TGedVz2wM5SH",
        "outputId": "6d1ca61b-4fa3-4c4e-c6d4-3374241195e6"
      },
      "execution_count": null,
      "outputs": [
        {
          "output_type": "stream",
          "name": "stdout",
          "text": [
            "(10.0, 22.0)\n"
          ]
        }
      ]
    },
    {
      "cell_type": "markdown",
      "source": [
        "**Isabel**"
      ],
      "metadata": {
        "id": "QRMhC7cIHmLN"
      }
    },
    {
      "cell_type": "code",
      "source": [
        "##Correct\n",
        "successes = 22\n",
        "trials = 44\n",
        "confidence_level = 0.95\n",
        "\n",
        "# Perform binomial test\n",
        "conf_interval = stats.binom.interval(confidence_level, trials, successes / trials)\n",
        "\n",
        "# Print the result\n",
        "print(conf_interval)"
      ],
      "metadata": {
        "colab": {
          "base_uri": "https://localhost:8080/"
        },
        "id": "XKZmBogvHu7k",
        "outputId": "e5fa084d-1901-4b9e-8d2f-fa2c54d3df74"
      },
      "execution_count": null,
      "outputs": [
        {
          "output_type": "stream",
          "name": "stdout",
          "text": [
            "(16.0, 28.0)\n"
          ]
        }
      ]
    },
    {
      "cell_type": "code",
      "source": [
        "##over\n",
        "successes = 19\n",
        "trials = 44\n",
        "confidence_level = 0.95\n",
        "\n",
        "# Perform binomial test\n",
        "conf_interval = stats.binom.interval(confidence_level, trials, successes / trials)\n",
        "\n",
        "# Print the result\n",
        "print(conf_interval)"
      ],
      "metadata": {
        "colab": {
          "base_uri": "https://localhost:8080/"
        },
        "id": "PQwUwZBaM7Dp",
        "outputId": "84a96396-9bc5-4cec-bcfd-56f5e4c03d3d"
      },
      "execution_count": null,
      "outputs": [
        {
          "output_type": "stream",
          "name": "stdout",
          "text": [
            "(13.0, 25.0)\n"
          ]
        }
      ]
    },
    {
      "cell_type": "code",
      "source": [
        "##under\n",
        "successes = 3\n",
        "trials = 44\n",
        "confidence_level = 0.95\n",
        "\n",
        "# Perform binomial test\n",
        "conf_interval = stats.binom.interval(confidence_level, trials, successes / trials)\n",
        "\n",
        "# Print the result\n",
        "print(conf_interval)"
      ],
      "metadata": {
        "colab": {
          "base_uri": "https://localhost:8080/"
        },
        "id": "_YVNxzb-M7GY",
        "outputId": "d7cfd504-8672-43b6-eef3-37c912cff0e9"
      },
      "execution_count": null,
      "outputs": [
        {
          "output_type": "stream",
          "name": "stdout",
          "text": [
            "(0.0, 7.0)\n"
          ]
        }
      ]
    },
    {
      "cell_type": "markdown",
      "source": [
        "**Mediktor**"
      ],
      "metadata": {
        "id": "-hfjCBJGHmTb"
      }
    },
    {
      "cell_type": "code",
      "source": [
        "##Correct\n",
        "successes = 19\n",
        "trials = 44\n",
        "confidence_level = 0.95\n",
        "\n",
        "# Perform binomial test\n",
        "conf_interval = stats.binom.interval(confidence_level, trials, successes / trials)\n",
        "\n",
        "# Print the result\n",
        "print(conf_interval)"
      ],
      "metadata": {
        "colab": {
          "base_uri": "https://localhost:8080/"
        },
        "id": "fyPNGagKHxrS",
        "outputId": "54e128fa-31ec-4cb2-bd8f-ae8113017d0d"
      },
      "execution_count": null,
      "outputs": [
        {
          "output_type": "stream",
          "name": "stdout",
          "text": [
            "(13.0, 25.0)\n"
          ]
        }
      ]
    },
    {
      "cell_type": "code",
      "source": [
        "##Over\n",
        "successes = 3\n",
        "trials = 44\n",
        "confidence_level = 0.95\n",
        "\n",
        "# Perform binomial test\n",
        "conf_interval = stats.binom.interval(confidence_level, trials, successes / trials)\n",
        "\n",
        "# Print the result\n",
        "print(conf_interval)"
      ],
      "metadata": {
        "colab": {
          "base_uri": "https://localhost:8080/"
        },
        "id": "F_To3tGFM8df",
        "outputId": "eb5d4276-e4d0-49ac-aa7b-e814e8a33c82"
      },
      "execution_count": null,
      "outputs": [
        {
          "output_type": "stream",
          "name": "stdout",
          "text": [
            "(0.0, 7.0)\n"
          ]
        }
      ]
    },
    {
      "cell_type": "code",
      "source": [
        "##under\n",
        "successes = 22\n",
        "trials = 44\n",
        "confidence_level = 0.95\n",
        "\n",
        "# Perform binomial test\n",
        "conf_interval = stats.binom.interval(confidence_level, trials, successes / trials)\n",
        "\n",
        "# Print the result\n",
        "print(conf_interval)"
      ],
      "metadata": {
        "colab": {
          "base_uri": "https://localhost:8080/"
        },
        "id": "LOrweBvFM8gW",
        "outputId": "6de7cbad-ebf9-4119-d8dd-cc5a20c3f1d6"
      },
      "execution_count": null,
      "outputs": [
        {
          "output_type": "stream",
          "name": "stdout",
          "text": [
            "(16.0, 28.0)\n"
          ]
        }
      ]
    },
    {
      "cell_type": "markdown",
      "source": [
        "**Over/under/correct average triages**"
      ],
      "metadata": {
        "id": "0oV2LdjbHyGj"
      }
    },
    {
      "cell_type": "markdown",
      "source": [
        "**Correct**"
      ],
      "metadata": {
        "id": "yrizpNcgH5P3"
      }
    },
    {
      "cell_type": "code",
      "source": [
        "# Given data\n",
        "successes = 84\n",
        "trials = 176\n",
        "confidence_level = 0.95\n",
        "\n",
        "# Perform binomial test\n",
        "conf_interval = stats.binom.interval(confidence_level, trials, successes / trials)\n",
        "\n",
        "# Print the result\n",
        "print(conf_interval)"
      ],
      "metadata": {
        "colab": {
          "base_uri": "https://localhost:8080/"
        },
        "id": "8HqGXv92H7Ua",
        "outputId": "e74e2f4b-97f7-41b3-aaea-f7ddb1ce3285"
      },
      "execution_count": null,
      "outputs": [
        {
          "output_type": "stream",
          "name": "stdout",
          "text": [
            "(71.0, 97.0)\n"
          ]
        }
      ]
    },
    {
      "cell_type": "markdown",
      "source": [
        "**Over**"
      ],
      "metadata": {
        "id": "glt30jeaH5XK"
      }
    },
    {
      "cell_type": "code",
      "source": [
        "# Given data\n",
        "successes = 35.125\n",
        "trials = 176\n",
        "confidence_level = 0.95\n",
        "\n",
        "# Perform binomial test\n",
        "conf_interval = stats.binom.interval(confidence_level, trials, successes / trials)\n",
        "\n",
        "# Print the result\n",
        "print(conf_interval)"
      ],
      "metadata": {
        "colab": {
          "base_uri": "https://localhost:8080/"
        },
        "id": "j3N0LsgrH9Hi",
        "outputId": "b9272b27-8b38-4489-b6b7-199956899de3"
      },
      "execution_count": null,
      "outputs": [
        {
          "output_type": "stream",
          "name": "stdout",
          "text": [
            "(25.0, 46.0)\n"
          ]
        }
      ]
    },
    {
      "cell_type": "markdown",
      "source": [
        "**Under**"
      ],
      "metadata": {
        "id": "MAgmxbmsH5c6"
      }
    },
    {
      "cell_type": "code",
      "source": [
        "# Given data\n",
        "successes = 47.875\n",
        "trials = 176\n",
        "confidence_level = 0.95\n",
        "\n",
        "# Perform binomial test\n",
        "conf_interval = stats.binom.interval(confidence_level, trials, successes / trials)\n",
        "\n",
        "# Print the result\n",
        "print(conf_interval)"
      ],
      "metadata": {
        "colab": {
          "base_uri": "https://localhost:8080/"
        },
        "id": "1OcP-XTkH_FP",
        "outputId": "5479e0e2-6ad8-4ee0-e0d1-3a7e86f82d6b"
      },
      "execution_count": null,
      "outputs": [
        {
          "output_type": "stream",
          "name": "stdout",
          "text": [
            "(37.0, 60.0)\n"
          ]
        }
      ]
    }
  ]
}